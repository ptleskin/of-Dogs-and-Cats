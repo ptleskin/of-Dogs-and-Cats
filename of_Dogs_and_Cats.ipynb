{
  "nbformat": 4,
  "nbformat_minor": 0,
  "metadata": {
    "colab": {
      "name": "of Dogs and Cats.ipynb",
      "provenance": [],
      "collapsed_sections": [],
      "toc_visible": true,
      "authorship_tag": "ABX9TyO5fOl5vKw55AO7KrBndh40",
      "include_colab_link": true
    },
    "kernelspec": {
      "name": "python3",
      "display_name": "Python 3"
    }
  },
  "cells": [
    {
      "cell_type": "markdown",
      "metadata": {
        "id": "view-in-github",
        "colab_type": "text"
      },
      "source": [
        "<a href=\"https://colab.research.google.com/github/ptleskin/of-Dogs-and-Cats/blob/main/of_Dogs_and_Cats.ipynb\" target=\"_parent\"><img src=\"https://colab.research.google.com/assets/colab-badge.svg\" alt=\"Open In Colab\"/></a>"
      ]
    },
    {
      "cell_type": "markdown",
      "metadata": {
        "id": "wMlkkPJvOJ1y"
      },
      "source": [
        "## Import dependencies"
      ]
    },
    {
      "cell_type": "code",
      "metadata": {
        "id": "TuUO-lt6ntUv"
      },
      "source": [
        "import numpy as np\n",
        "import pandas as pd\n",
        "import seaborn as sns\n",
        "import matplotlib.pyplot as plt\n",
        "\n",
        "from numpy.linalg import matrix_power\n",
        "from scipy.special import comb\n",
        "from scipy.signal import convolve2d\n",
        "from sklearn.preprocessing import minmax_scale"
      ],
      "execution_count": 1,
      "outputs": []
    },
    {
      "cell_type": "markdown",
      "metadata": {
        "id": "WMpvdlAAOOGV"
      },
      "source": [
        "## Define functions"
      ]
    },
    {
      "cell_type": "code",
      "metadata": {
        "id": "AcNbcLwkOQlg"
      },
      "source": [
        "def drawHeatmapMatrix(M, labels, xlabels, ylabels, \n",
        "                      contrast=1/200, \n",
        "                      format='.2f', \n",
        "                      cmap = \"Blues\",\n",
        "                      normalize = 'rows',\n",
        "                      cbar = True):\n",
        "  M2 = convolve2d(M, np.array([[-1,-3,-1],[-3,17,-3],[-1,-3,-1]]), mode = 'same', boundary=\"symm\")\n",
        "  \n",
        "  if normalize == 'all':\n",
        "    # scale to actual range\n",
        "    hi=np.max(M)\n",
        "    lo=np.min(M)\n",
        "    M2 = M2*contrast+M \n",
        "    M2 = (M2-np.min(M2))/(np.max(M2)-np.min(M2))*(hi-lo)+lo\n",
        "  elif normalize == 'columns':\n",
        "    M2 = minmax_scale(M2*contrast+M, feature_range=(np.min(M), np.max(M)), axis=0)\n",
        "  else:\n",
        "  # scaling by columns or rows:\n",
        "    M2 = minmax_scale(M2*contrast+M, feature_range=(np.min(M), np.max(M)), axis=1)\n",
        "\n",
        "  sns.heatmap(M2,\n",
        "              annot = labels,\n",
        "              center = 0.1, \n",
        "              fmt = format,\n",
        "              square = True, \n",
        "              linewidths = 2,\n",
        "              robust = True,\n",
        "              xticklabels = xlabels,\n",
        "              yticklabels = ylabels,\n",
        "              cmap = cmap,\n",
        "              cbar = cbar, \n",
        "              #cbar_kws = dict(ticks=[.0, .25, .5], shrink=0.82) \n",
        "              cbar_kws = dict(shrink=0.82)\n",
        "              )"
      ],
      "execution_count": 2,
      "outputs": []
    },
    {
      "cell_type": "markdown",
      "metadata": {
        "id": "jLKDBXzRo35E"
      },
      "source": [
        "# Brute Force\n",
        "A sequence of $N$ animals can be represented as a binary number in the range $[0, 2^{N}-1]$, e.g. $01111 11111$ would mean a cat followed by nine dogs. \n",
        "\n",
        "The following code lists all combinations using binary numbers Cat=0 and Dog=1.\n",
        "\n",
        "NB: Cats are labels as zero, because\n",
        "*   I am a dog owner\n",
        "*   Cats always want to sit in circles  [[1]](https://www.dailymail.co.uk/news/article-2840233/The-great-moggie-mystery-s-question-s-got-internet-purring-cats-sit-circles-refuse-move.html)\n"
      ]
    },
    {
      "cell_type": "code",
      "metadata": {
        "id": "JLWH2hv8eguF",
        "colab": {
          "base_uri": "https://localhost:8080/",
          "height": 442
        },
        "outputId": "38fa737e-2273-42ca-af6b-cd5d4bdd930c"
      },
      "source": [
        "# total number of animals\n",
        "N = 10\n",
        "labels = {'0': \"Cat\", '1': \"Dog\"}\n",
        "\n",
        "# for converting an integer into a binary representation string:\n",
        "fmt = \"{:0\"+str(N)+\"b}\"\n",
        "\n",
        "# list all posibilities\n",
        "arr = [fmt.format(n) for n in range(2**N)]\n",
        "#  no cats next to one another:\n",
        "arr = [st for st in arr if '00' not in st]\n",
        "\n",
        "df = pd.DataFrame(dict(Arrangements = arr))\n",
        "df.index += 1\n",
        "display(df)\n",
        "print(\"In total {} combinations.\".format(len(arr)))"
      ],
      "execution_count": 3,
      "outputs": [
        {
          "output_type": "display_data",
          "data": {
            "text/html": [
              "<div>\n",
              "<style scoped>\n",
              "    .dataframe tbody tr th:only-of-type {\n",
              "        vertical-align: middle;\n",
              "    }\n",
              "\n",
              "    .dataframe tbody tr th {\n",
              "        vertical-align: top;\n",
              "    }\n",
              "\n",
              "    .dataframe thead th {\n",
              "        text-align: right;\n",
              "    }\n",
              "</style>\n",
              "<table border=\"1\" class=\"dataframe\">\n",
              "  <thead>\n",
              "    <tr style=\"text-align: right;\">\n",
              "      <th></th>\n",
              "      <th>Arrangements</th>\n",
              "    </tr>\n",
              "  </thead>\n",
              "  <tbody>\n",
              "    <tr>\n",
              "      <th>1</th>\n",
              "      <td>0101010101</td>\n",
              "    </tr>\n",
              "    <tr>\n",
              "      <th>2</th>\n",
              "      <td>0101010110</td>\n",
              "    </tr>\n",
              "    <tr>\n",
              "      <th>3</th>\n",
              "      <td>0101010111</td>\n",
              "    </tr>\n",
              "    <tr>\n",
              "      <th>4</th>\n",
              "      <td>0101011010</td>\n",
              "    </tr>\n",
              "    <tr>\n",
              "      <th>5</th>\n",
              "      <td>0101011011</td>\n",
              "    </tr>\n",
              "    <tr>\n",
              "      <th>...</th>\n",
              "      <td>...</td>\n",
              "    </tr>\n",
              "    <tr>\n",
              "      <th>140</th>\n",
              "      <td>1111111010</td>\n",
              "    </tr>\n",
              "    <tr>\n",
              "      <th>141</th>\n",
              "      <td>1111111011</td>\n",
              "    </tr>\n",
              "    <tr>\n",
              "      <th>142</th>\n",
              "      <td>1111111101</td>\n",
              "    </tr>\n",
              "    <tr>\n",
              "      <th>143</th>\n",
              "      <td>1111111110</td>\n",
              "    </tr>\n",
              "    <tr>\n",
              "      <th>144</th>\n",
              "      <td>1111111111</td>\n",
              "    </tr>\n",
              "  </tbody>\n",
              "</table>\n",
              "<p>144 rows × 1 columns</p>\n",
              "</div>"
            ],
            "text/plain": [
              "    Arrangements\n",
              "1     0101010101\n",
              "2     0101010110\n",
              "3     0101010111\n",
              "4     0101011010\n",
              "5     0101011011\n",
              "..           ...\n",
              "140   1111111010\n",
              "141   1111111011\n",
              "142   1111111101\n",
              "143   1111111110\n",
              "144   1111111111\n",
              "\n",
              "[144 rows x 1 columns]"
            ]
          },
          "metadata": {
            "tags": []
          }
        },
        {
          "output_type": "stream",
          "text": [
            "In total 144 combinations.\n"
          ],
          "name": "stdout"
        }
      ]
    },
    {
      "cell_type": "markdown",
      "metadata": {
        "id": "nHUw_BgTL0ed"
      },
      "source": [
        "## show table with labels"
      ]
    },
    {
      "cell_type": "code",
      "metadata": {
        "id": "feLt4vcBIhPi",
        "colab": {
          "base_uri": "https://localhost:8080/",
          "height": 424
        },
        "outputId": "d225fbdc-8fba-4f84-e2a0-ccbe4c006486"
      },
      "source": [
        "# convert integer into a string sequence:\n",
        "arrT = np.array([[labels.get(x) for x in st] for st in arr]).T\n",
        "df = pd.DataFrame(dict([(k,v) for k,v in enumerate(arrT, start=1)]))\n",
        "df.index += 1\n",
        "display(df)"
      ],
      "execution_count": 4,
      "outputs": [
        {
          "output_type": "display_data",
          "data": {
            "text/html": [
              "<div>\n",
              "<style scoped>\n",
              "    .dataframe tbody tr th:only-of-type {\n",
              "        vertical-align: middle;\n",
              "    }\n",
              "\n",
              "    .dataframe tbody tr th {\n",
              "        vertical-align: top;\n",
              "    }\n",
              "\n",
              "    .dataframe thead th {\n",
              "        text-align: right;\n",
              "    }\n",
              "</style>\n",
              "<table border=\"1\" class=\"dataframe\">\n",
              "  <thead>\n",
              "    <tr style=\"text-align: right;\">\n",
              "      <th></th>\n",
              "      <th>1</th>\n",
              "      <th>2</th>\n",
              "      <th>3</th>\n",
              "      <th>4</th>\n",
              "      <th>5</th>\n",
              "      <th>6</th>\n",
              "      <th>7</th>\n",
              "      <th>8</th>\n",
              "      <th>9</th>\n",
              "      <th>10</th>\n",
              "    </tr>\n",
              "  </thead>\n",
              "  <tbody>\n",
              "    <tr>\n",
              "      <th>1</th>\n",
              "      <td>Cat</td>\n",
              "      <td>Dog</td>\n",
              "      <td>Cat</td>\n",
              "      <td>Dog</td>\n",
              "      <td>Cat</td>\n",
              "      <td>Dog</td>\n",
              "      <td>Cat</td>\n",
              "      <td>Dog</td>\n",
              "      <td>Cat</td>\n",
              "      <td>Dog</td>\n",
              "    </tr>\n",
              "    <tr>\n",
              "      <th>2</th>\n",
              "      <td>Cat</td>\n",
              "      <td>Dog</td>\n",
              "      <td>Cat</td>\n",
              "      <td>Dog</td>\n",
              "      <td>Cat</td>\n",
              "      <td>Dog</td>\n",
              "      <td>Cat</td>\n",
              "      <td>Dog</td>\n",
              "      <td>Dog</td>\n",
              "      <td>Cat</td>\n",
              "    </tr>\n",
              "    <tr>\n",
              "      <th>3</th>\n",
              "      <td>Cat</td>\n",
              "      <td>Dog</td>\n",
              "      <td>Cat</td>\n",
              "      <td>Dog</td>\n",
              "      <td>Cat</td>\n",
              "      <td>Dog</td>\n",
              "      <td>Cat</td>\n",
              "      <td>Dog</td>\n",
              "      <td>Dog</td>\n",
              "      <td>Dog</td>\n",
              "    </tr>\n",
              "    <tr>\n",
              "      <th>4</th>\n",
              "      <td>Cat</td>\n",
              "      <td>Dog</td>\n",
              "      <td>Cat</td>\n",
              "      <td>Dog</td>\n",
              "      <td>Cat</td>\n",
              "      <td>Dog</td>\n",
              "      <td>Dog</td>\n",
              "      <td>Cat</td>\n",
              "      <td>Dog</td>\n",
              "      <td>Cat</td>\n",
              "    </tr>\n",
              "    <tr>\n",
              "      <th>5</th>\n",
              "      <td>Cat</td>\n",
              "      <td>Dog</td>\n",
              "      <td>Cat</td>\n",
              "      <td>Dog</td>\n",
              "      <td>Cat</td>\n",
              "      <td>Dog</td>\n",
              "      <td>Dog</td>\n",
              "      <td>Cat</td>\n",
              "      <td>Dog</td>\n",
              "      <td>Dog</td>\n",
              "    </tr>\n",
              "    <tr>\n",
              "      <th>...</th>\n",
              "      <td>...</td>\n",
              "      <td>...</td>\n",
              "      <td>...</td>\n",
              "      <td>...</td>\n",
              "      <td>...</td>\n",
              "      <td>...</td>\n",
              "      <td>...</td>\n",
              "      <td>...</td>\n",
              "      <td>...</td>\n",
              "      <td>...</td>\n",
              "    </tr>\n",
              "    <tr>\n",
              "      <th>140</th>\n",
              "      <td>Dog</td>\n",
              "      <td>Dog</td>\n",
              "      <td>Dog</td>\n",
              "      <td>Dog</td>\n",
              "      <td>Dog</td>\n",
              "      <td>Dog</td>\n",
              "      <td>Dog</td>\n",
              "      <td>Cat</td>\n",
              "      <td>Dog</td>\n",
              "      <td>Cat</td>\n",
              "    </tr>\n",
              "    <tr>\n",
              "      <th>141</th>\n",
              "      <td>Dog</td>\n",
              "      <td>Dog</td>\n",
              "      <td>Dog</td>\n",
              "      <td>Dog</td>\n",
              "      <td>Dog</td>\n",
              "      <td>Dog</td>\n",
              "      <td>Dog</td>\n",
              "      <td>Cat</td>\n",
              "      <td>Dog</td>\n",
              "      <td>Dog</td>\n",
              "    </tr>\n",
              "    <tr>\n",
              "      <th>142</th>\n",
              "      <td>Dog</td>\n",
              "      <td>Dog</td>\n",
              "      <td>Dog</td>\n",
              "      <td>Dog</td>\n",
              "      <td>Dog</td>\n",
              "      <td>Dog</td>\n",
              "      <td>Dog</td>\n",
              "      <td>Dog</td>\n",
              "      <td>Cat</td>\n",
              "      <td>Dog</td>\n",
              "    </tr>\n",
              "    <tr>\n",
              "      <th>143</th>\n",
              "      <td>Dog</td>\n",
              "      <td>Dog</td>\n",
              "      <td>Dog</td>\n",
              "      <td>Dog</td>\n",
              "      <td>Dog</td>\n",
              "      <td>Dog</td>\n",
              "      <td>Dog</td>\n",
              "      <td>Dog</td>\n",
              "      <td>Dog</td>\n",
              "      <td>Cat</td>\n",
              "    </tr>\n",
              "    <tr>\n",
              "      <th>144</th>\n",
              "      <td>Dog</td>\n",
              "      <td>Dog</td>\n",
              "      <td>Dog</td>\n",
              "      <td>Dog</td>\n",
              "      <td>Dog</td>\n",
              "      <td>Dog</td>\n",
              "      <td>Dog</td>\n",
              "      <td>Dog</td>\n",
              "      <td>Dog</td>\n",
              "      <td>Dog</td>\n",
              "    </tr>\n",
              "  </tbody>\n",
              "</table>\n",
              "<p>144 rows × 10 columns</p>\n",
              "</div>"
            ],
            "text/plain": [
              "      1    2    3    4    5    6    7    8    9    10\n",
              "1    Cat  Dog  Cat  Dog  Cat  Dog  Cat  Dog  Cat  Dog\n",
              "2    Cat  Dog  Cat  Dog  Cat  Dog  Cat  Dog  Dog  Cat\n",
              "3    Cat  Dog  Cat  Dog  Cat  Dog  Cat  Dog  Dog  Dog\n",
              "4    Cat  Dog  Cat  Dog  Cat  Dog  Dog  Cat  Dog  Cat\n",
              "5    Cat  Dog  Cat  Dog  Cat  Dog  Dog  Cat  Dog  Dog\n",
              "..   ...  ...  ...  ...  ...  ...  ...  ...  ...  ...\n",
              "140  Dog  Dog  Dog  Dog  Dog  Dog  Dog  Cat  Dog  Cat\n",
              "141  Dog  Dog  Dog  Dog  Dog  Dog  Dog  Cat  Dog  Dog\n",
              "142  Dog  Dog  Dog  Dog  Dog  Dog  Dog  Dog  Cat  Dog\n",
              "143  Dog  Dog  Dog  Dog  Dog  Dog  Dog  Dog  Dog  Cat\n",
              "144  Dog  Dog  Dog  Dog  Dog  Dog  Dog  Dog  Dog  Dog\n",
              "\n",
              "[144 rows x 10 columns]"
            ]
          },
          "metadata": {
            "tags": []
          }
        }
      ]
    },
    {
      "cell_type": "markdown",
      "metadata": {
        "id": "uNuCnSTLGXiv"
      },
      "source": [
        "Count frequences and ratio"
      ]
    },
    {
      "cell_type": "code",
      "metadata": {
        "id": "rS5r3rD6DqMZ",
        "colab": {
          "base_uri": "https://localhost:8080/"
        },
        "outputId": "72e9c992-8d10-4cdf-8b6c-09a017cc33ec"
      },
      "source": [
        "from collections import Counter\n",
        "cn = Counter()\n",
        "[cn.update(v) for v in arrT]\n",
        "print(cn)\n",
        "cats = cn['Cat']\n",
        "dogs = cn['Dog']\n",
        "total = cats+dogs\n",
        "\n",
        "print(\"Ratio cats/dogs: {}\".format(cats/dogs)) # 0.39285845418023574\n",
        "print(\"Cats: {:.2f}%\".format(100*cats/total))\n",
        "print(\"Dogs: {:.2f}%\".format(100*dogs/total))"
      ],
      "execution_count": 5,
      "outputs": [
        {
          "output_type": "stream",
          "text": [
            "Counter({'Dog': 1020, 'Cat': 420})\n",
            "Ratio cats/dogs: 0.4117647058823529\n",
            "Cats: 29.17%\n",
            "Dogs: 70.83%\n"
          ],
          "name": "stdout"
        }
      ]
    },
    {
      "cell_type": "markdown",
      "metadata": {
        "id": "KSTPY1lZoyz6"
      },
      "source": [
        "# Combinatorics\n",
        "In this block we will calculate the number using combinatorics, e.g. using the [Stars and bars](https://en.wikipedia.org/wiki/Stars_and_bars_(combinatorics)) principle.\n",
        "\n",
        "Like for instance, if there was $d=7$ dogs, there are $d-1=6$ gaps between them, one position at the left end, and one at the right end. These will be the $d+1=8$ positions where the $N-d=3$ cats can be placed.\n",
        "\n",
        "$?$ ![picture](https://lh3.googleusercontent.com/fife/ABSRlIqvqgZVGVmZM-R7Z0_-hx9OS6op7cpksxGFETCrtcnGz9na1fR-gs6G4lf6iiMdiemlu2gBY01ADi27LMdDEQdFfw4_FJYOeTH99LAqjGK6yybOzOWM_I30ztXb6VV1smKUaiYNtHVPMj1mI4DvLMi4IferuPdDYFlw5u4kqalqZ7AruMRKavkZN-xgi7ygGF84DP28VJ2MfZEVxDwJz-6cWIyfppWpUejrMC135Pc24v0Q4KCkr8duRq6Rupd8XnaSU7-XLnRL76d688LvVwiCIFg3goggnUV1eylD6NjA5vj0JI4jT42i8cOpKNIHI1cuqzRk9ZOd4qbQWfZ1-gEsKD4KV_3DR8-5U8ebzKYa8oEG7wc03PTxAT6G8dPgK5-is3Sb_sF27yat8aVAYEjZ_RSRMbh1S8sbu24yYwLTuzrZWknZTqwZk5TW6p94fbrH_NiSGAbK0o0vYVnZkU4tkIZ-CEQG1h_4V9CFwcZoMhmpSCqTQJL8keN3UZ_na0gzE3hiuz3oomzG3Cc1-32RXfx75sn2yiRqGyCRi-HZLFo44bA4xSSV1sYxffrE7fYZFjbmaGzl1N0pVbEuZE8zPC6UpRTGbOsohsmpzy_HQw4XAjopSl1doibl2UamKL6QOOQ9zB_rTXD-bgtbmCTde9cnEEdtv1BU35OvNC8RODvlw6lS7GSk_W-YN7w1Rm7XVqe_2iYAvX84cF8ccId5waT-Ibu3poc=w320-h200-k-ft) $?$ ![picture](https://lh3.googleusercontent.com/fife/ABSRlIqvqgZVGVmZM-R7Z0_-hx9OS6op7cpksxGFETCrtcnGz9na1fR-gs6G4lf6iiMdiemlu2gBY01ADi27LMdDEQdFfw4_FJYOeTH99LAqjGK6yybOzOWM_I30ztXb6VV1smKUaiYNtHVPMj1mI4DvLMi4IferuPdDYFlw5u4kqalqZ7AruMRKavkZN-xgi7ygGF84DP28VJ2MfZEVxDwJz-6cWIyfppWpUejrMC135Pc24v0Q4KCkr8duRq6Rupd8XnaSU7-XLnRL76d688LvVwiCIFg3goggnUV1eylD6NjA5vj0JI4jT42i8cOpKNIHI1cuqzRk9ZOd4qbQWfZ1-gEsKD4KV_3DR8-5U8ebzKYa8oEG7wc03PTxAT6G8dPgK5-is3Sb_sF27yat8aVAYEjZ_RSRMbh1S8sbu24yYwLTuzrZWknZTqwZk5TW6p94fbrH_NiSGAbK0o0vYVnZkU4tkIZ-CEQG1h_4V9CFwcZoMhmpSCqTQJL8keN3UZ_na0gzE3hiuz3oomzG3Cc1-32RXfx75sn2yiRqGyCRi-HZLFo44bA4xSSV1sYxffrE7fYZFjbmaGzl1N0pVbEuZE8zPC6UpRTGbOsohsmpzy_HQw4XAjopSl1doibl2UamKL6QOOQ9zB_rTXD-bgtbmCTde9cnEEdtv1BU35OvNC8RODvlw6lS7GSk_W-YN7w1Rm7XVqe_2iYAvX84cF8ccId5waT-Ibu3poc=w320-h200-k-ft)$?$ ![picture](https://lh3.googleusercontent.com/fife/ABSRlIqvqgZVGVmZM-R7Z0_-hx9OS6op7cpksxGFETCrtcnGz9na1fR-gs6G4lf6iiMdiemlu2gBY01ADi27LMdDEQdFfw4_FJYOeTH99LAqjGK6yybOzOWM_I30ztXb6VV1smKUaiYNtHVPMj1mI4DvLMi4IferuPdDYFlw5u4kqalqZ7AruMRKavkZN-xgi7ygGF84DP28VJ2MfZEVxDwJz-6cWIyfppWpUejrMC135Pc24v0Q4KCkr8duRq6Rupd8XnaSU7-XLnRL76d688LvVwiCIFg3goggnUV1eylD6NjA5vj0JI4jT42i8cOpKNIHI1cuqzRk9ZOd4qbQWfZ1-gEsKD4KV_3DR8-5U8ebzKYa8oEG7wc03PTxAT6G8dPgK5-is3Sb_sF27yat8aVAYEjZ_RSRMbh1S8sbu24yYwLTuzrZWknZTqwZk5TW6p94fbrH_NiSGAbK0o0vYVnZkU4tkIZ-CEQG1h_4V9CFwcZoMhmpSCqTQJL8keN3UZ_na0gzE3hiuz3oomzG3Cc1-32RXfx75sn2yiRqGyCRi-HZLFo44bA4xSSV1sYxffrE7fYZFjbmaGzl1N0pVbEuZE8zPC6UpRTGbOsohsmpzy_HQw4XAjopSl1doibl2UamKL6QOOQ9zB_rTXD-bgtbmCTde9cnEEdtv1BU35OvNC8RODvlw6lS7GSk_W-YN7w1Rm7XVqe_2iYAvX84cF8ccId5waT-Ibu3poc=w320-h200-k-ft)$?$ ![picture](https://lh3.googleusercontent.com/fife/ABSRlIqvqgZVGVmZM-R7Z0_-hx9OS6op7cpksxGFETCrtcnGz9na1fR-gs6G4lf6iiMdiemlu2gBY01ADi27LMdDEQdFfw4_FJYOeTH99LAqjGK6yybOzOWM_I30ztXb6VV1smKUaiYNtHVPMj1mI4DvLMi4IferuPdDYFlw5u4kqalqZ7AruMRKavkZN-xgi7ygGF84DP28VJ2MfZEVxDwJz-6cWIyfppWpUejrMC135Pc24v0Q4KCkr8duRq6Rupd8XnaSU7-XLnRL76d688LvVwiCIFg3goggnUV1eylD6NjA5vj0JI4jT42i8cOpKNIHI1cuqzRk9ZOd4qbQWfZ1-gEsKD4KV_3DR8-5U8ebzKYa8oEG7wc03PTxAT6G8dPgK5-is3Sb_sF27yat8aVAYEjZ_RSRMbh1S8sbu24yYwLTuzrZWknZTqwZk5TW6p94fbrH_NiSGAbK0o0vYVnZkU4tkIZ-CEQG1h_4V9CFwcZoMhmpSCqTQJL8keN3UZ_na0gzE3hiuz3oomzG3Cc1-32RXfx75sn2yiRqGyCRi-HZLFo44bA4xSSV1sYxffrE7fYZFjbmaGzl1N0pVbEuZE8zPC6UpRTGbOsohsmpzy_HQw4XAjopSl1doibl2UamKL6QOOQ9zB_rTXD-bgtbmCTde9cnEEdtv1BU35OvNC8RODvlw6lS7GSk_W-YN7w1Rm7XVqe_2iYAvX84cF8ccId5waT-Ibu3poc=w320-h200-k-ft)$?$ ![picture](https://lh3.googleusercontent.com/fife/ABSRlIqvqgZVGVmZM-R7Z0_-hx9OS6op7cpksxGFETCrtcnGz9na1fR-gs6G4lf6iiMdiemlu2gBY01ADi27LMdDEQdFfw4_FJYOeTH99LAqjGK6yybOzOWM_I30ztXb6VV1smKUaiYNtHVPMj1mI4DvLMi4IferuPdDYFlw5u4kqalqZ7AruMRKavkZN-xgi7ygGF84DP28VJ2MfZEVxDwJz-6cWIyfppWpUejrMC135Pc24v0Q4KCkr8duRq6Rupd8XnaSU7-XLnRL76d688LvVwiCIFg3goggnUV1eylD6NjA5vj0JI4jT42i8cOpKNIHI1cuqzRk9ZOd4qbQWfZ1-gEsKD4KV_3DR8-5U8ebzKYa8oEG7wc03PTxAT6G8dPgK5-is3Sb_sF27yat8aVAYEjZ_RSRMbh1S8sbu24yYwLTuzrZWknZTqwZk5TW6p94fbrH_NiSGAbK0o0vYVnZkU4tkIZ-CEQG1h_4V9CFwcZoMhmpSCqTQJL8keN3UZ_na0gzE3hiuz3oomzG3Cc1-32RXfx75sn2yiRqGyCRi-HZLFo44bA4xSSV1sYxffrE7fYZFjbmaGzl1N0pVbEuZE8zPC6UpRTGbOsohsmpzy_HQw4XAjopSl1doibl2UamKL6QOOQ9zB_rTXD-bgtbmCTde9cnEEdtv1BU35OvNC8RODvlw6lS7GSk_W-YN7w1Rm7XVqe_2iYAvX84cF8ccId5waT-Ibu3poc=w320-h200-k-ft)$?$ ![picture](https://lh3.googleusercontent.com/fife/ABSRlIqvqgZVGVmZM-R7Z0_-hx9OS6op7cpksxGFETCrtcnGz9na1fR-gs6G4lf6iiMdiemlu2gBY01ADi27LMdDEQdFfw4_FJYOeTH99LAqjGK6yybOzOWM_I30ztXb6VV1smKUaiYNtHVPMj1mI4DvLMi4IferuPdDYFlw5u4kqalqZ7AruMRKavkZN-xgi7ygGF84DP28VJ2MfZEVxDwJz-6cWIyfppWpUejrMC135Pc24v0Q4KCkr8duRq6Rupd8XnaSU7-XLnRL76d688LvVwiCIFg3goggnUV1eylD6NjA5vj0JI4jT42i8cOpKNIHI1cuqzRk9ZOd4qbQWfZ1-gEsKD4KV_3DR8-5U8ebzKYa8oEG7wc03PTxAT6G8dPgK5-is3Sb_sF27yat8aVAYEjZ_RSRMbh1S8sbu24yYwLTuzrZWknZTqwZk5TW6p94fbrH_NiSGAbK0o0vYVnZkU4tkIZ-CEQG1h_4V9CFwcZoMhmpSCqTQJL8keN3UZ_na0gzE3hiuz3oomzG3Cc1-32RXfx75sn2yiRqGyCRi-HZLFo44bA4xSSV1sYxffrE7fYZFjbmaGzl1N0pVbEuZE8zPC6UpRTGbOsohsmpzy_HQw4XAjopSl1doibl2UamKL6QOOQ9zB_rTXD-bgtbmCTde9cnEEdtv1BU35OvNC8RODvlw6lS7GSk_W-YN7w1Rm7XVqe_2iYAvX84cF8ccId5waT-Ibu3poc=w320-h200-k-ft)$?$ ![picture](https://lh3.googleusercontent.com/fife/ABSRlIqvqgZVGVmZM-R7Z0_-hx9OS6op7cpksxGFETCrtcnGz9na1fR-gs6G4lf6iiMdiemlu2gBY01ADi27LMdDEQdFfw4_FJYOeTH99LAqjGK6yybOzOWM_I30ztXb6VV1smKUaiYNtHVPMj1mI4DvLMi4IferuPdDYFlw5u4kqalqZ7AruMRKavkZN-xgi7ygGF84DP28VJ2MfZEVxDwJz-6cWIyfppWpUejrMC135Pc24v0Q4KCkr8duRq6Rupd8XnaSU7-XLnRL76d688LvVwiCIFg3goggnUV1eylD6NjA5vj0JI4jT42i8cOpKNIHI1cuqzRk9ZOd4qbQWfZ1-gEsKD4KV_3DR8-5U8ebzKYa8oEG7wc03PTxAT6G8dPgK5-is3Sb_sF27yat8aVAYEjZ_RSRMbh1S8sbu24yYwLTuzrZWknZTqwZk5TW6p94fbrH_NiSGAbK0o0vYVnZkU4tkIZ-CEQG1h_4V9CFwcZoMhmpSCqTQJL8keN3UZ_na0gzE3hiuz3oomzG3Cc1-32RXfx75sn2yiRqGyCRi-HZLFo44bA4xSSV1sYxffrE7fYZFjbmaGzl1N0pVbEuZE8zPC6UpRTGbOsohsmpzy_HQw4XAjopSl1doibl2UamKL6QOOQ9zB_rTXD-bgtbmCTde9cnEEdtv1BU35OvNC8RODvlw6lS7GSk_W-YN7w1Rm7XVqe_2iYAvX84cF8ccId5waT-Ibu3poc=w320-h200-k-ft) $?$ "
      ]
    },
    {
      "cell_type": "markdown",
      "metadata": {
        "id": "Tm6bPr2qjsJ7"
      },
      "source": [
        "So we are placing $N-d=3$ cats in $d+1=8$ positions. Since the order of the cats does not matter, there are \n",
        "${d+1 \\choose N-d} = {8 \\choose 3} = 56$ ways to choose the cat positions.\n",
        "\n",
        "The table below shows the number of arrangements as a function of number of dogs:\n"
      ]
    },
    {
      "cell_type": "code",
      "metadata": {
        "id": "kVfSjaO5KMvi",
        "colab": {
          "base_uri": "https://localhost:8080/",
          "height": 426
        },
        "outputId": "e10e0297-ab67-41f3-aef2-defcdfd42186"
      },
      "source": [
        "N = 10\n",
        "\n",
        "# function comb returns zero for illegal cases like (4 choose 6)\n",
        "arr = [int(comb(d+1,N-d)) for d in range(0,N+1)]\n",
        "\n",
        "df = pd.DataFrame({\"Dogs\": range(0,N+1), \"Arrangements\":arr, })\n",
        "df.index = df['Dogs']\n",
        "del df[\"Dogs\"]\n",
        "display(df)"
      ],
      "execution_count": 6,
      "outputs": [
        {
          "output_type": "display_data",
          "data": {
            "text/html": [
              "<div>\n",
              "<style scoped>\n",
              "    .dataframe tbody tr th:only-of-type {\n",
              "        vertical-align: middle;\n",
              "    }\n",
              "\n",
              "    .dataframe tbody tr th {\n",
              "        vertical-align: top;\n",
              "    }\n",
              "\n",
              "    .dataframe thead th {\n",
              "        text-align: right;\n",
              "    }\n",
              "</style>\n",
              "<table border=\"1\" class=\"dataframe\">\n",
              "  <thead>\n",
              "    <tr style=\"text-align: right;\">\n",
              "      <th></th>\n",
              "      <th>Arrangements</th>\n",
              "    </tr>\n",
              "    <tr>\n",
              "      <th>Dogs</th>\n",
              "      <th></th>\n",
              "    </tr>\n",
              "  </thead>\n",
              "  <tbody>\n",
              "    <tr>\n",
              "      <th>0</th>\n",
              "      <td>0</td>\n",
              "    </tr>\n",
              "    <tr>\n",
              "      <th>1</th>\n",
              "      <td>0</td>\n",
              "    </tr>\n",
              "    <tr>\n",
              "      <th>2</th>\n",
              "      <td>0</td>\n",
              "    </tr>\n",
              "    <tr>\n",
              "      <th>3</th>\n",
              "      <td>0</td>\n",
              "    </tr>\n",
              "    <tr>\n",
              "      <th>4</th>\n",
              "      <td>0</td>\n",
              "    </tr>\n",
              "    <tr>\n",
              "      <th>5</th>\n",
              "      <td>6</td>\n",
              "    </tr>\n",
              "    <tr>\n",
              "      <th>6</th>\n",
              "      <td>35</td>\n",
              "    </tr>\n",
              "    <tr>\n",
              "      <th>7</th>\n",
              "      <td>56</td>\n",
              "    </tr>\n",
              "    <tr>\n",
              "      <th>8</th>\n",
              "      <td>36</td>\n",
              "    </tr>\n",
              "    <tr>\n",
              "      <th>9</th>\n",
              "      <td>10</td>\n",
              "    </tr>\n",
              "    <tr>\n",
              "      <th>10</th>\n",
              "      <td>1</td>\n",
              "    </tr>\n",
              "  </tbody>\n",
              "</table>\n",
              "</div>"
            ],
            "text/plain": [
              "      Arrangements\n",
              "Dogs              \n",
              "0                0\n",
              "1                0\n",
              "2                0\n",
              "3                0\n",
              "4                0\n",
              "5                6\n",
              "6               35\n",
              "7               56\n",
              "8               36\n",
              "9               10\n",
              "10               1"
            ]
          },
          "metadata": {
            "tags": []
          }
        }
      ]
    },
    {
      "cell_type": "markdown",
      "metadata": {
        "id": "xkjoS-s_rKSp"
      },
      "source": [
        "Next, if we wanted to count the total number of all arrangements, we will sum over all the possible amounts of dogs $d \\in [{\\lfloor}N/2{\\rfloor}, N]$ which is given by the following formula:\n",
        "\n",
        "$\\sum_{d={\\lfloor}N/2{\\rfloor}}^N {d+1 \\choose N-d}$\n",
        "\n",
        "The cell below calculates the total number of arrangements when $N=10$.\n"
      ]
    },
    {
      "cell_type": "code",
      "metadata": {
        "id": "tOiqClSWpzoG",
        "colab": {
          "base_uri": "https://localhost:8080/"
        },
        "outputId": "36ce9ac3-2d10-4f84-c700-0eb0851a8a08"
      },
      "source": [
        "N = 10\n",
        "sum([int(comb(d+1,N-d)) for d in range(N+1)])"
      ],
      "execution_count": 7,
      "outputs": [
        {
          "output_type": "execute_result",
          "data": {
            "text/plain": [
              "144"
            ]
          },
          "metadata": {
            "tags": []
          },
          "execution_count": 7
        }
      ]
    },
    {
      "cell_type": "markdown",
      "metadata": {
        "id": "ktmsTMlUrvJX"
      },
      "source": [
        "The answer $144$ is interesting, after realizing e.g. that $144=12^2$, one might start wondering what is the formula in a general case, e.g. what is the answer as a function of $N$.\n",
        "\n",
        "The cell below calculates the answer when the number of animals when $1\\leq N \\leq 15$:"
      ]
    },
    {
      "cell_type": "code",
      "metadata": {
        "id": "iLoiW4Sqf0cy",
        "colab": {
          "base_uri": "https://localhost:8080/",
          "height": 520
        },
        "outputId": "a4bc3ff9-ae5f-46d7-c1d7-7543ad4422b6"
      },
      "source": [
        "Ns = []\n",
        "Sums = []\n",
        "for N in range(1, 16):\n",
        "  Ns.append(N)\n",
        "  Sums.append(sum([int(comb(d+1,N-d)) for d in range(0,N+1)]))\n",
        "\n",
        "df = pd.DataFrame()\n",
        "df['Length'] = Ns\n",
        "df['Combinations'] = Sums\n",
        "df.index += 1\n",
        "display(df)"
      ],
      "execution_count": 8,
      "outputs": [
        {
          "output_type": "display_data",
          "data": {
            "text/html": [
              "<div>\n",
              "<style scoped>\n",
              "    .dataframe tbody tr th:only-of-type {\n",
              "        vertical-align: middle;\n",
              "    }\n",
              "\n",
              "    .dataframe tbody tr th {\n",
              "        vertical-align: top;\n",
              "    }\n",
              "\n",
              "    .dataframe thead th {\n",
              "        text-align: right;\n",
              "    }\n",
              "</style>\n",
              "<table border=\"1\" class=\"dataframe\">\n",
              "  <thead>\n",
              "    <tr style=\"text-align: right;\">\n",
              "      <th></th>\n",
              "      <th>Length</th>\n",
              "      <th>Combinations</th>\n",
              "    </tr>\n",
              "  </thead>\n",
              "  <tbody>\n",
              "    <tr>\n",
              "      <th>1</th>\n",
              "      <td>1</td>\n",
              "      <td>2</td>\n",
              "    </tr>\n",
              "    <tr>\n",
              "      <th>2</th>\n",
              "      <td>2</td>\n",
              "      <td>3</td>\n",
              "    </tr>\n",
              "    <tr>\n",
              "      <th>3</th>\n",
              "      <td>3</td>\n",
              "      <td>5</td>\n",
              "    </tr>\n",
              "    <tr>\n",
              "      <th>4</th>\n",
              "      <td>4</td>\n",
              "      <td>8</td>\n",
              "    </tr>\n",
              "    <tr>\n",
              "      <th>5</th>\n",
              "      <td>5</td>\n",
              "      <td>13</td>\n",
              "    </tr>\n",
              "    <tr>\n",
              "      <th>6</th>\n",
              "      <td>6</td>\n",
              "      <td>21</td>\n",
              "    </tr>\n",
              "    <tr>\n",
              "      <th>7</th>\n",
              "      <td>7</td>\n",
              "      <td>34</td>\n",
              "    </tr>\n",
              "    <tr>\n",
              "      <th>8</th>\n",
              "      <td>8</td>\n",
              "      <td>55</td>\n",
              "    </tr>\n",
              "    <tr>\n",
              "      <th>9</th>\n",
              "      <td>9</td>\n",
              "      <td>89</td>\n",
              "    </tr>\n",
              "    <tr>\n",
              "      <th>10</th>\n",
              "      <td>10</td>\n",
              "      <td>144</td>\n",
              "    </tr>\n",
              "    <tr>\n",
              "      <th>11</th>\n",
              "      <td>11</td>\n",
              "      <td>233</td>\n",
              "    </tr>\n",
              "    <tr>\n",
              "      <th>12</th>\n",
              "      <td>12</td>\n",
              "      <td>377</td>\n",
              "    </tr>\n",
              "    <tr>\n",
              "      <th>13</th>\n",
              "      <td>13</td>\n",
              "      <td>610</td>\n",
              "    </tr>\n",
              "    <tr>\n",
              "      <th>14</th>\n",
              "      <td>14</td>\n",
              "      <td>987</td>\n",
              "    </tr>\n",
              "    <tr>\n",
              "      <th>15</th>\n",
              "      <td>15</td>\n",
              "      <td>1597</td>\n",
              "    </tr>\n",
              "  </tbody>\n",
              "</table>\n",
              "</div>"
            ],
            "text/plain": [
              "    Length  Combinations\n",
              "1        1             2\n",
              "2        2             3\n",
              "3        3             5\n",
              "4        4             8\n",
              "5        5            13\n",
              "6        6            21\n",
              "7        7            34\n",
              "8        8            55\n",
              "9        9            89\n",
              "10      10           144\n",
              "11      11           233\n",
              "12      12           377\n",
              "13      13           610\n",
              "14      14           987\n",
              "15      15          1597"
            ]
          },
          "metadata": {
            "tags": []
          }
        }
      ]
    },
    {
      "cell_type": "markdown",
      "metadata": {
        "id": "jhik2LljtDJ8"
      },
      "source": [
        "## **Now What the F...Fibonacci is going on?**\n",
        "\n",
        "I sure know a Fibonacci Sequence when I see one, although it starts with 2,3,5, ...\n",
        "\n",
        "."
      ]
    },
    {
      "cell_type": "markdown",
      "metadata": {
        "id": "y9G0L9tQvufQ"
      },
      "source": [
        "# Solving the Recurrence Equation with Linear Algebra\n",
        "To study further the appearing of the Fibonacci Sequence I chose to solve the recurrence problem using Linear Algebra.\n",
        "The model is such that we mark the number of possible rows of animal where the last animal is a dog with $d_n$, and likewise for rows with a cat at the end with $c_n$, a vector $v_n$ is formed by the two variables:\n",
        "\n",
        "$v_n = \\begin{bmatrix} d_n \\\\ c_n \\end{bmatrix}$\n",
        "\n",
        "The initial value $v_0 = [1,1]^T$ tells that with a row of one animal there are mutual changes of the chosen animal being a dog or a cat.\n",
        "\n",
        "To build the recurrence, lets calculate the next $v_{n+1}$ in the sequence by:\n",
        "\n",
        "$v_{n+1} = \\begin{bmatrix} d_{n+1} \\\\ c_{n+1} \\end{bmatrix} = \n",
        "\\begin{bmatrix} 1 & 1 \\\\ 1 & 0 \\end{bmatrix} \\cdot\n",
        "\\begin{bmatrix} d_n \\\\ c_n \\end{bmatrix} = A \\cdot v_n\n",
        "$\n",
        "\n",
        "Because both the rows ending with a dog or a cat can be extended with a dog, are the top row values in the matrix $A$ both equal to 1. On the other hand, a row ending with a cat cannot be extended with another cat, which is indicated by the value 0 at the right bottom element of $A$.\n",
        "\n",
        "A general case of $v_n$ can therefore be calculated using matrix exponentation $A^n$ and the initial value $v_0$:\n",
        "\n",
        "$v_{n} = \\begin{bmatrix} d_{n} \\\\ c_{n} \\end{bmatrix} = \n",
        "\\begin{bmatrix} 1 & 1 \\\\ 1 & 0 \\end{bmatrix}^n \\cdot\n",
        "\\begin{bmatrix} d_0 \\\\ c_0 \\end{bmatrix} = A^n \\cdot v_0\n",
        "$\n",
        "\n",
        "The number of rows ending with a cat or a dog, and the total number of possible rows are calculated in the cell below for row lengths of $1 \\leq n \\leq 20$.\n",
        "The table also shows the percentage of cats in the row and the number of valid rows compared to the total number of rows $2^N$:"
      ]
    },
    {
      "cell_type": "code",
      "metadata": {
        "id": "5Zf2pS8QuBAA",
        "colab": {
          "base_uri": "https://localhost:8080/",
          "height": 677
        },
        "outputId": "ef37d5e1-7d80-405a-a24e-5c13bd45312d"
      },
      "source": [
        "A = np.array([[1,1],[1,0]])\n",
        "v = np.array([1,1]).T\n",
        "\n",
        "cats = []\n",
        "dogs = []\n",
        "for N in range(20):\n",
        "\n",
        "  vn = matrix_power(A,N).dot(v)\n",
        "  \n",
        "  dogs.append(vn[0])\n",
        "  cats.append(vn[1])\n",
        "\n",
        "df = pd.DataFrame()\n",
        "df['Cat'] = cats\n",
        "df['Dog'] = dogs\n",
        "df['Total'] = df['Cat']+df['Dog']\n",
        "df['Cats/Dogs Ratio'] = df['Dog']/df['Cat']\n",
        "df['Dog percentage'] = 100*df['Dog']/df['Total']\n",
        "df['Dog percentage'] = df.apply(lambda x: \"{:.3f}%\".format(x['Dog percentage']), axis=1)\n",
        "df.index += 1\n",
        "\n",
        "df['Valid sequences'] = df.Total/(2**df.index)\n",
        "df['Valid sequences'] = df.apply(lambda x: \"{:.3f}%\".format(100*x['Valid sequences']), axis=1)\n",
        "\n",
        "display(df)"
      ],
      "execution_count": 9,
      "outputs": [
        {
          "output_type": "display_data",
          "data": {
            "text/html": [
              "<div>\n",
              "<style scoped>\n",
              "    .dataframe tbody tr th:only-of-type {\n",
              "        vertical-align: middle;\n",
              "    }\n",
              "\n",
              "    .dataframe tbody tr th {\n",
              "        vertical-align: top;\n",
              "    }\n",
              "\n",
              "    .dataframe thead th {\n",
              "        text-align: right;\n",
              "    }\n",
              "</style>\n",
              "<table border=\"1\" class=\"dataframe\">\n",
              "  <thead>\n",
              "    <tr style=\"text-align: right;\">\n",
              "      <th></th>\n",
              "      <th>Cat</th>\n",
              "      <th>Dog</th>\n",
              "      <th>Total</th>\n",
              "      <th>Cats/Dogs Ratio</th>\n",
              "      <th>Dog percentage</th>\n",
              "      <th>Valid sequences</th>\n",
              "    </tr>\n",
              "  </thead>\n",
              "  <tbody>\n",
              "    <tr>\n",
              "      <th>1</th>\n",
              "      <td>1</td>\n",
              "      <td>1</td>\n",
              "      <td>2</td>\n",
              "      <td>1.000000</td>\n",
              "      <td>50.000%</td>\n",
              "      <td>100.000%</td>\n",
              "    </tr>\n",
              "    <tr>\n",
              "      <th>2</th>\n",
              "      <td>1</td>\n",
              "      <td>2</td>\n",
              "      <td>3</td>\n",
              "      <td>2.000000</td>\n",
              "      <td>66.667%</td>\n",
              "      <td>75.000%</td>\n",
              "    </tr>\n",
              "    <tr>\n",
              "      <th>3</th>\n",
              "      <td>2</td>\n",
              "      <td>3</td>\n",
              "      <td>5</td>\n",
              "      <td>1.500000</td>\n",
              "      <td>60.000%</td>\n",
              "      <td>62.500%</td>\n",
              "    </tr>\n",
              "    <tr>\n",
              "      <th>4</th>\n",
              "      <td>3</td>\n",
              "      <td>5</td>\n",
              "      <td>8</td>\n",
              "      <td>1.666667</td>\n",
              "      <td>62.500%</td>\n",
              "      <td>50.000%</td>\n",
              "    </tr>\n",
              "    <tr>\n",
              "      <th>5</th>\n",
              "      <td>5</td>\n",
              "      <td>8</td>\n",
              "      <td>13</td>\n",
              "      <td>1.600000</td>\n",
              "      <td>61.538%</td>\n",
              "      <td>40.625%</td>\n",
              "    </tr>\n",
              "    <tr>\n",
              "      <th>6</th>\n",
              "      <td>8</td>\n",
              "      <td>13</td>\n",
              "      <td>21</td>\n",
              "      <td>1.625000</td>\n",
              "      <td>61.905%</td>\n",
              "      <td>32.812%</td>\n",
              "    </tr>\n",
              "    <tr>\n",
              "      <th>7</th>\n",
              "      <td>13</td>\n",
              "      <td>21</td>\n",
              "      <td>34</td>\n",
              "      <td>1.615385</td>\n",
              "      <td>61.765%</td>\n",
              "      <td>26.562%</td>\n",
              "    </tr>\n",
              "    <tr>\n",
              "      <th>8</th>\n",
              "      <td>21</td>\n",
              "      <td>34</td>\n",
              "      <td>55</td>\n",
              "      <td>1.619048</td>\n",
              "      <td>61.818%</td>\n",
              "      <td>21.484%</td>\n",
              "    </tr>\n",
              "    <tr>\n",
              "      <th>9</th>\n",
              "      <td>34</td>\n",
              "      <td>55</td>\n",
              "      <td>89</td>\n",
              "      <td>1.617647</td>\n",
              "      <td>61.798%</td>\n",
              "      <td>17.383%</td>\n",
              "    </tr>\n",
              "    <tr>\n",
              "      <th>10</th>\n",
              "      <td>55</td>\n",
              "      <td>89</td>\n",
              "      <td>144</td>\n",
              "      <td>1.618182</td>\n",
              "      <td>61.806%</td>\n",
              "      <td>14.062%</td>\n",
              "    </tr>\n",
              "    <tr>\n",
              "      <th>11</th>\n",
              "      <td>89</td>\n",
              "      <td>144</td>\n",
              "      <td>233</td>\n",
              "      <td>1.617978</td>\n",
              "      <td>61.803%</td>\n",
              "      <td>11.377%</td>\n",
              "    </tr>\n",
              "    <tr>\n",
              "      <th>12</th>\n",
              "      <td>144</td>\n",
              "      <td>233</td>\n",
              "      <td>377</td>\n",
              "      <td>1.618056</td>\n",
              "      <td>61.804%</td>\n",
              "      <td>9.204%</td>\n",
              "    </tr>\n",
              "    <tr>\n",
              "      <th>13</th>\n",
              "      <td>233</td>\n",
              "      <td>377</td>\n",
              "      <td>610</td>\n",
              "      <td>1.618026</td>\n",
              "      <td>61.803%</td>\n",
              "      <td>7.446%</td>\n",
              "    </tr>\n",
              "    <tr>\n",
              "      <th>14</th>\n",
              "      <td>377</td>\n",
              "      <td>610</td>\n",
              "      <td>987</td>\n",
              "      <td>1.618037</td>\n",
              "      <td>61.803%</td>\n",
              "      <td>6.024%</td>\n",
              "    </tr>\n",
              "    <tr>\n",
              "      <th>15</th>\n",
              "      <td>610</td>\n",
              "      <td>987</td>\n",
              "      <td>1597</td>\n",
              "      <td>1.618033</td>\n",
              "      <td>61.803%</td>\n",
              "      <td>4.874%</td>\n",
              "    </tr>\n",
              "    <tr>\n",
              "      <th>16</th>\n",
              "      <td>987</td>\n",
              "      <td>1597</td>\n",
              "      <td>2584</td>\n",
              "      <td>1.618034</td>\n",
              "      <td>61.803%</td>\n",
              "      <td>3.943%</td>\n",
              "    </tr>\n",
              "    <tr>\n",
              "      <th>17</th>\n",
              "      <td>1597</td>\n",
              "      <td>2584</td>\n",
              "      <td>4181</td>\n",
              "      <td>1.618034</td>\n",
              "      <td>61.803%</td>\n",
              "      <td>3.190%</td>\n",
              "    </tr>\n",
              "    <tr>\n",
              "      <th>18</th>\n",
              "      <td>2584</td>\n",
              "      <td>4181</td>\n",
              "      <td>6765</td>\n",
              "      <td>1.618034</td>\n",
              "      <td>61.803%</td>\n",
              "      <td>2.581%</td>\n",
              "    </tr>\n",
              "    <tr>\n",
              "      <th>19</th>\n",
              "      <td>4181</td>\n",
              "      <td>6765</td>\n",
              "      <td>10946</td>\n",
              "      <td>1.618034</td>\n",
              "      <td>61.803%</td>\n",
              "      <td>2.088%</td>\n",
              "    </tr>\n",
              "    <tr>\n",
              "      <th>20</th>\n",
              "      <td>6765</td>\n",
              "      <td>10946</td>\n",
              "      <td>17711</td>\n",
              "      <td>1.618034</td>\n",
              "      <td>61.803%</td>\n",
              "      <td>1.689%</td>\n",
              "    </tr>\n",
              "  </tbody>\n",
              "</table>\n",
              "</div>"
            ],
            "text/plain": [
              "     Cat    Dog  Total  Cats/Dogs Ratio Dog percentage Valid sequences\n",
              "1      1      1      2         1.000000        50.000%        100.000%\n",
              "2      1      2      3         2.000000        66.667%         75.000%\n",
              "3      2      3      5         1.500000        60.000%         62.500%\n",
              "4      3      5      8         1.666667        62.500%         50.000%\n",
              "5      5      8     13         1.600000        61.538%         40.625%\n",
              "6      8     13     21         1.625000        61.905%         32.812%\n",
              "7     13     21     34         1.615385        61.765%         26.562%\n",
              "8     21     34     55         1.619048        61.818%         21.484%\n",
              "9     34     55     89         1.617647        61.798%         17.383%\n",
              "10    55     89    144         1.618182        61.806%         14.062%\n",
              "11    89    144    233         1.617978        61.803%         11.377%\n",
              "12   144    233    377         1.618056        61.804%          9.204%\n",
              "13   233    377    610         1.618026        61.803%          7.446%\n",
              "14   377    610    987         1.618037        61.803%          6.024%\n",
              "15   610    987   1597         1.618033        61.803%          4.874%\n",
              "16   987   1597   2584         1.618034        61.803%          3.943%\n",
              "17  1597   2584   4181         1.618034        61.803%          3.190%\n",
              "18  2584   4181   6765         1.618034        61.803%          2.581%\n",
              "19  4181   6765  10946         1.618034        61.803%          2.088%\n",
              "20  6765  10946  17711         1.618034        61.803%          1.689%"
            ]
          },
          "metadata": {
            "tags": []
          }
        }
      ]
    },
    {
      "cell_type": "markdown",
      "metadata": {
        "id": "6XNvd68l4QBO"
      },
      "source": [
        "The above table shows that all three sequences follow the Fibonacci model, and the ratio of rows ending with a cat and rows ending with a dog approaches the Golden Ratio $\\phi = \\frac{1+\\sqrt{5}}{2}\\approx 1.618$.\n",
        "\n",
        "It is the larger root of the characteristic polynomial:\n",
        "\n",
        "$\\phi^2−\\phi−1=0$.\n",
        "\n",
        "The other root is $\\frac{1-\\sqrt{5}}{2} = -\\phi^{-1} = 1-\\phi \\approx -0.618$.\n",
        "\n",
        "The constant $\\phi$ is also found in the [eigenvalue decomposition](https://www.wolframalpha.com/input/?i=%7B%7B1%2C1%7D%2C%7B1%2C0%7D%7D) of the matrix $A$:\n",
        "\n",
        "$\n",
        "A = C \\Lambda C^{-1} = \n",
        "\\begin{bmatrix} \\phi & 1-\\phi \\\\ 1 & 1 \\end{bmatrix} \\cdot\n",
        "\\begin{bmatrix} \\phi & 0 \\\\ 0 & 1-\\phi \\end{bmatrix} \\cdot\n",
        "\\begin{bmatrix} \\phi & 1-\\phi \\\\ 1 & 1 \\end{bmatrix}^{-1}\n",
        "$"
      ]
    },
    {
      "cell_type": "code",
      "metadata": {
        "id": "rum8XfIU5Cf5",
        "colab": {
          "base_uri": "https://localhost:8080/"
        },
        "outputId": "490e424c-48fc-4866-c3ca-be5c5bed915e"
      },
      "source": [
        "L,C = np.linalg.eig(A)\n",
        "D=np.diag(L)\n",
        "print(C)\n",
        "print(D)\n",
        "\n",
        "print((0.5+C.dot(D).dot(matrix_power(C,-1))).astype('int'))\n",
        "phi = (1+5**0.5)/2\n",
        "phi_2 = 1-phi\n",
        "C2 = np.array([[phi, phi_2], [1,1]])\n",
        "D2 = [[phi, 0], [0, phi_2]]\n",
        "# print((0.5+C2.dot(D2).dot(np.linalg.matrix_power(C2,-1))).astype('int'))"
      ],
      "execution_count": 10,
      "outputs": [
        {
          "output_type": "stream",
          "text": [
            "[[ 0.85065081 -0.52573111]\n",
            " [ 0.52573111  0.85065081]]\n",
            "[[ 1.61803399  0.        ]\n",
            " [ 0.         -0.61803399]]\n",
            "[[1 1]\n",
            " [1 0]]\n"
          ],
          "name": "stdout"
        }
      ]
    },
    {
      "cell_type": "markdown",
      "metadata": {
        "id": "PCbOVwFfh4ad"
      },
      "source": [
        "## What value is the percentage of dogs ~61.8%:\n",
        "\n",
        "It is the ratio of two sequental Fibonacci numbers $F_{n-1}$ and $F_{n}$\n",
        "\n",
        "$\\lim_{n \\rightarrow \\infty} F_{n-1}/F_{n}$\n",
        "$ = \\phi^{-1} = \\phi -1 \\approx 0.618$ "
      ]
    },
    {
      "cell_type": "code",
      "metadata": {
        "id": "qG7rtP-0h9Ga",
        "colab": {
          "base_uri": "https://localhost:8080/"
        },
        "outputId": "770443f5-e6ed-4eda-f8dd-1cfe20bf0c9a"
      },
      "source": [
        "(phi**-1, phi-1)"
      ],
      "execution_count": 11,
      "outputs": [
        {
          "output_type": "execute_result",
          "data": {
            "text/plain": [
              "(0.6180339887498948, 0.6180339887498949)"
            ]
          },
          "metadata": {
            "tags": []
          },
          "execution_count": 11
        }
      ]
    },
    {
      "cell_type": "markdown",
      "metadata": {
        "id": "FPf3sjgAPxAi"
      },
      "source": [
        "### What value is the cat percentage ~38.2% ?\n",
        "\n",
        "It is the ratio of two Fibonacci numbers $F_{n-2}$ and $F_{n}$\n",
        "\n",
        "$\\lim_{n \\rightarrow \\infty} F_{n-2}/F_{n}$\n",
        "$ = \\phi^{-2} = 1-\\phi^{-1} = 2-\\phi \\approx 0.382$ \n",
        "\n",
        "Nice how these values can be written using so many different expressions!"
      ]
    },
    {
      "cell_type": "code",
      "metadata": {
        "id": "3GYfD29vPhNO",
        "colab": {
          "base_uri": "https://localhost:8080/"
        },
        "outputId": "c0b102f0-ab79-4c71-87d1-fc9fa93e4dbc"
      },
      "source": [
        "(phi**-2, 1-phi**-1, 2-phi)"
      ],
      "execution_count": 12,
      "outputs": [
        {
          "output_type": "execute_result",
          "data": {
            "text/plain": [
              "(0.38196601125010515, 0.3819660112501052, 0.3819660112501051)"
            ]
          },
          "metadata": {
            "tags": []
          },
          "execution_count": 12
        }
      ]
    },
    {
      "cell_type": "markdown",
      "metadata": {
        "id": "BWPMWGTKSXvD"
      },
      "source": [
        "#  case of more than two species\n",
        "\n",
        "We can apply the method described above also for the cases where there are more than two species of animals. Like for instance in a case of four species the recurrency matrix $A$ could become:\n",
        "\n",
        "$A=\\begin{bmatrix} \n",
        "1 & 1 & 1 & 1 \\\\ \n",
        "1 & 0 & 1 & 1 \\\\ \n",
        "1 & 1 & 0 & 1 \\\\ \n",
        "1 & 1 & 1 & 0 \\\\ \n",
        "\\end{bmatrix}$\n",
        "\n",
        "In this example matrix, similar rules apply as for the dogs and cats: you can put the first animal next to any other animal. The rest of species behaves like the cats in the example problem, you cannot put them next to one another.\n",
        "\n",
        "The table below shows the results of the calculations with the number of species $2\\leq T \\leq 6$:"
      ]
    },
    {
      "cell_type": "code",
      "metadata": {
        "id": "8Od-KelCg7qZ",
        "colab": {
          "base_uri": "https://localhost:8080/",
          "height": 426
        },
        "outputId": "d4e17d3a-8200-4483-f4f6-62f7923f0385"
      },
      "source": [
        "animals = []\n",
        "Ts = []\n",
        "for T in range(2,7):\n",
        "  A = np.ones((T,T)) - np.identity(T)\n",
        "  A[0,0] = 1\n",
        "  v = np.array([1]*T).T\n",
        "  res = []\n",
        "  for N in range(12):\n",
        "\n",
        "    vn = np.linalg.matrix_power(A,N).dot(v)\n",
        "    res.append(int(sum(vn)))\n",
        "  \n",
        "  animals.append(res)\n",
        "  Ts.append(T)\n",
        "  \n",
        "df = pd.DataFrame()\n",
        "\n",
        "prx = \"Number of species: \"\n",
        "for i, arr in zip(Ts, animals):\n",
        "  df[prx+str(i)] = arr\n",
        "  prx = \"\"\n",
        "df.index += 1\n",
        "display(df)"
      ],
      "execution_count": 13,
      "outputs": [
        {
          "output_type": "display_data",
          "data": {
            "text/html": [
              "<div>\n",
              "<style scoped>\n",
              "    .dataframe tbody tr th:only-of-type {\n",
              "        vertical-align: middle;\n",
              "    }\n",
              "\n",
              "    .dataframe tbody tr th {\n",
              "        vertical-align: top;\n",
              "    }\n",
              "\n",
              "    .dataframe thead th {\n",
              "        text-align: right;\n",
              "    }\n",
              "</style>\n",
              "<table border=\"1\" class=\"dataframe\">\n",
              "  <thead>\n",
              "    <tr style=\"text-align: right;\">\n",
              "      <th></th>\n",
              "      <th>Number of species: 2</th>\n",
              "      <th>3</th>\n",
              "      <th>4</th>\n",
              "      <th>5</th>\n",
              "      <th>6</th>\n",
              "    </tr>\n",
              "  </thead>\n",
              "  <tbody>\n",
              "    <tr>\n",
              "      <th>1</th>\n",
              "      <td>2</td>\n",
              "      <td>3</td>\n",
              "      <td>4</td>\n",
              "      <td>5</td>\n",
              "      <td>6</td>\n",
              "    </tr>\n",
              "    <tr>\n",
              "      <th>2</th>\n",
              "      <td>3</td>\n",
              "      <td>7</td>\n",
              "      <td>13</td>\n",
              "      <td>21</td>\n",
              "      <td>31</td>\n",
              "    </tr>\n",
              "    <tr>\n",
              "      <th>3</th>\n",
              "      <td>5</td>\n",
              "      <td>17</td>\n",
              "      <td>43</td>\n",
              "      <td>89</td>\n",
              "      <td>161</td>\n",
              "    </tr>\n",
              "    <tr>\n",
              "      <th>4</th>\n",
              "      <td>8</td>\n",
              "      <td>41</td>\n",
              "      <td>142</td>\n",
              "      <td>377</td>\n",
              "      <td>836</td>\n",
              "    </tr>\n",
              "    <tr>\n",
              "      <th>5</th>\n",
              "      <td>13</td>\n",
              "      <td>99</td>\n",
              "      <td>469</td>\n",
              "      <td>1597</td>\n",
              "      <td>4341</td>\n",
              "    </tr>\n",
              "    <tr>\n",
              "      <th>6</th>\n",
              "      <td>21</td>\n",
              "      <td>239</td>\n",
              "      <td>1549</td>\n",
              "      <td>6765</td>\n",
              "      <td>22541</td>\n",
              "    </tr>\n",
              "    <tr>\n",
              "      <th>7</th>\n",
              "      <td>34</td>\n",
              "      <td>577</td>\n",
              "      <td>5116</td>\n",
              "      <td>28657</td>\n",
              "      <td>117046</td>\n",
              "    </tr>\n",
              "    <tr>\n",
              "      <th>8</th>\n",
              "      <td>55</td>\n",
              "      <td>1393</td>\n",
              "      <td>16897</td>\n",
              "      <td>121393</td>\n",
              "      <td>607771</td>\n",
              "    </tr>\n",
              "    <tr>\n",
              "      <th>9</th>\n",
              "      <td>89</td>\n",
              "      <td>3363</td>\n",
              "      <td>55807</td>\n",
              "      <td>514229</td>\n",
              "      <td>3155901</td>\n",
              "    </tr>\n",
              "    <tr>\n",
              "      <th>10</th>\n",
              "      <td>144</td>\n",
              "      <td>8119</td>\n",
              "      <td>184318</td>\n",
              "      <td>2178309</td>\n",
              "      <td>16387276</td>\n",
              "    </tr>\n",
              "    <tr>\n",
              "      <th>11</th>\n",
              "      <td>233</td>\n",
              "      <td>19601</td>\n",
              "      <td>608761</td>\n",
              "      <td>9227465</td>\n",
              "      <td>85092281</td>\n",
              "    </tr>\n",
              "    <tr>\n",
              "      <th>12</th>\n",
              "      <td>377</td>\n",
              "      <td>47321</td>\n",
              "      <td>2010601</td>\n",
              "      <td>39088169</td>\n",
              "      <td>441848681</td>\n",
              "    </tr>\n",
              "  </tbody>\n",
              "</table>\n",
              "</div>"
            ],
            "text/plain": [
              "    Number of species: 2      3        4         5          6\n",
              "1                      2      3        4         5          6\n",
              "2                      3      7       13        21         31\n",
              "3                      5     17       43        89        161\n",
              "4                      8     41      142       377        836\n",
              "5                     13     99      469      1597       4341\n",
              "6                     21    239     1549      6765      22541\n",
              "7                     34    577     5116     28657     117046\n",
              "8                     55   1393    16897    121393     607771\n",
              "9                     89   3363    55807    514229    3155901\n",
              "10                   144   8119   184318   2178309   16387276\n",
              "11                   233  19601   608761   9227465   85092281\n",
              "12                   377  47321  2010601  39088169  441848681"
            ]
          },
          "metadata": {
            "tags": []
          }
        }
      ]
    },
    {
      "cell_type": "markdown",
      "metadata": {
        "id": "s_16KIIISkNd"
      },
      "source": [
        "## Extra rules for adjacencies\n",
        "\n",
        "Notice how the values $\\{0,1\\}$ in the matrix $A$ indicate which species can be located next to one another. In this representation number 1 means that the species can be, while 0 indicates that the species cannot be located in a adjacent positions.\n",
        "\n",
        "Now lets concider a case of four species, dogs and cats augmented with bunnies and foxes now using the rules:\n",
        "* Dogs would start chasing the bunnies, so they cannot be next to one another\n",
        "* Cats can't be next to other cats\n",
        "* Foxes can't be next to bunnies and vice versa\n",
        "* Bunnies can't be next to other bunnies, otherwise they would start dating'n'mating resulting an exponential growth of the population following a [Fibonacci Sequence](http://www.maths.surrey.ac.uk/hosted-sites/R.Knott/Fibonacci/fibrab.html).\n",
        "\n",
        "Now taking this set of rules into the consideration we get an adjacency matrix $A$ as shown in the visualization below. \n",
        "In this matrix the zero values indicate the sequence pairs that are not allowed: \n",
        "\n",
        "(dog, bunny), (cat, cat), (bunny, bunny), (fox, bunny), (bunny, dog), (bunny, fox)"
      ]
    },
    {
      "cell_type": "code",
      "metadata": {
        "id": "ZHCYj5jZvQPY",
        "colab": {
          "base_uri": "https://localhost:8080/",
          "height": 374
        },
        "outputId": "ec39a284-ef29-47f2-e37b-e68e0d4c81f3"
      },
      "source": [
        "A= [[1,1,0,1], [1,0,1,1], [0,1,0,0], [1,1,0,1]]\n",
        "labels=['dog', 'cat', 'bunny', 'fox']\n",
        "\n",
        "fig, ax = plt.subplots(figsize=(6,6))\n",
        "plt.rcParams.update({'font.size': 18})\n",
        "\n",
        "drawHeatmapMatrix(A, A, labels, labels, normalize=\"all\", format=\".0f\", cbar=False)\n",
        "\n",
        "plt.show()"
      ],
      "execution_count": 14,
      "outputs": [
        {
          "output_type": "display_data",
          "data": {
            "image/png": "[encoded data removed]",
            "text/plain": [
              "<Figure size 432x432 with 1 Axes>"
            ]
          },
          "metadata": {
            "tags": [],
            "needs_background": "light"
          }
        }
      ]
    },
    {
      "cell_type": "markdown",
      "metadata": {
        "id": "ouArHKwqC6qD"
      },
      "source": [
        "Finally, lets see how this population grows with the given rules, and we will also add a new initial condition where the first animal has to be a dog or a cat:"
      ]
    },
    {
      "cell_type": "code",
      "metadata": {
        "id": "d32bmJM2Pwok",
        "colab": {
          "base_uri": "https://localhost:8080/",
          "height": 551
        },
        "outputId": "e91ff2e0-114a-4623-be29-79d46929883c"
      },
      "source": [
        "v = np.array([1,1,0,0]).T\n",
        "cats, dogs, bunnies, foxes = [], [], [], []\n",
        "\n",
        "for N in range(16):\n",
        "\n",
        "  vn = matrix_power(A,N).dot(v)\n",
        "  \n",
        "  dogs.append(vn[0])\n",
        "  cats.append(vn[1])\n",
        "  bunnies.append(vn[2])\n",
        "  foxes.append(vn[3])\n",
        "\n",
        "df = pd.DataFrame()\n",
        "df['Dog'] = dogs\n",
        "df['Cat'] = cats\n",
        "df['Bunny'] = bunnies\n",
        "df['Fox'] = foxes\n",
        "df['Total'] = df.sum(axis=1)\n",
        "\n",
        "df.index += 1\n",
        "df['Sequence length'] = df.index\n",
        "display(df)"
      ],
      "execution_count": 15,
      "outputs": [
        {
          "output_type": "display_data",
          "data": {
            "text/html": [
              "<div>\n",
              "<style scoped>\n",
              "    .dataframe tbody tr th:only-of-type {\n",
              "        vertical-align: middle;\n",
              "    }\n",
              "\n",
              "    .dataframe tbody tr th {\n",
              "        vertical-align: top;\n",
              "    }\n",
              "\n",
              "    .dataframe thead th {\n",
              "        text-align: right;\n",
              "    }\n",
              "</style>\n",
              "<table border=\"1\" class=\"dataframe\">\n",
              "  <thead>\n",
              "    <tr style=\"text-align: right;\">\n",
              "      <th></th>\n",
              "      <th>Dog</th>\n",
              "      <th>Cat</th>\n",
              "      <th>Bunny</th>\n",
              "      <th>Fox</th>\n",
              "      <th>Total</th>\n",
              "      <th>Sequence length</th>\n",
              "    </tr>\n",
              "  </thead>\n",
              "  <tbody>\n",
              "    <tr>\n",
              "      <th>1</th>\n",
              "      <td>1</td>\n",
              "      <td>1</td>\n",
              "      <td>0</td>\n",
              "      <td>0</td>\n",
              "      <td>2</td>\n",
              "      <td>1</td>\n",
              "    </tr>\n",
              "    <tr>\n",
              "      <th>2</th>\n",
              "      <td>2</td>\n",
              "      <td>1</td>\n",
              "      <td>1</td>\n",
              "      <td>2</td>\n",
              "      <td>6</td>\n",
              "      <td>2</td>\n",
              "    </tr>\n",
              "    <tr>\n",
              "      <th>3</th>\n",
              "      <td>5</td>\n",
              "      <td>5</td>\n",
              "      <td>1</td>\n",
              "      <td>5</td>\n",
              "      <td>16</td>\n",
              "      <td>3</td>\n",
              "    </tr>\n",
              "    <tr>\n",
              "      <th>4</th>\n",
              "      <td>15</td>\n",
              "      <td>11</td>\n",
              "      <td>5</td>\n",
              "      <td>15</td>\n",
              "      <td>46</td>\n",
              "      <td>4</td>\n",
              "    </tr>\n",
              "    <tr>\n",
              "      <th>5</th>\n",
              "      <td>41</td>\n",
              "      <td>35</td>\n",
              "      <td>11</td>\n",
              "      <td>41</td>\n",
              "      <td>128</td>\n",
              "      <td>5</td>\n",
              "    </tr>\n",
              "    <tr>\n",
              "      <th>6</th>\n",
              "      <td>117</td>\n",
              "      <td>93</td>\n",
              "      <td>35</td>\n",
              "      <td>117</td>\n",
              "      <td>362</td>\n",
              "      <td>6</td>\n",
              "    </tr>\n",
              "    <tr>\n",
              "      <th>7</th>\n",
              "      <td>327</td>\n",
              "      <td>269</td>\n",
              "      <td>93</td>\n",
              "      <td>327</td>\n",
              "      <td>1016</td>\n",
              "      <td>7</td>\n",
              "    </tr>\n",
              "    <tr>\n",
              "      <th>8</th>\n",
              "      <td>923</td>\n",
              "      <td>747</td>\n",
              "      <td>269</td>\n",
              "      <td>923</td>\n",
              "      <td>2862</td>\n",
              "      <td>8</td>\n",
              "    </tr>\n",
              "    <tr>\n",
              "      <th>9</th>\n",
              "      <td>2593</td>\n",
              "      <td>2115</td>\n",
              "      <td>747</td>\n",
              "      <td>2593</td>\n",
              "      <td>8048</td>\n",
              "      <td>9</td>\n",
              "    </tr>\n",
              "    <tr>\n",
              "      <th>10</th>\n",
              "      <td>7301</td>\n",
              "      <td>5933</td>\n",
              "      <td>2115</td>\n",
              "      <td>7301</td>\n",
              "      <td>22650</td>\n",
              "      <td>10</td>\n",
              "    </tr>\n",
              "    <tr>\n",
              "      <th>11</th>\n",
              "      <td>20535</td>\n",
              "      <td>16717</td>\n",
              "      <td>5933</td>\n",
              "      <td>20535</td>\n",
              "      <td>63720</td>\n",
              "      <td>11</td>\n",
              "    </tr>\n",
              "    <tr>\n",
              "      <th>12</th>\n",
              "      <td>57787</td>\n",
              "      <td>47003</td>\n",
              "      <td>16717</td>\n",
              "      <td>57787</td>\n",
              "      <td>179294</td>\n",
              "      <td>12</td>\n",
              "    </tr>\n",
              "    <tr>\n",
              "      <th>13</th>\n",
              "      <td>162577</td>\n",
              "      <td>132291</td>\n",
              "      <td>47003</td>\n",
              "      <td>162577</td>\n",
              "      <td>504448</td>\n",
              "      <td>13</td>\n",
              "    </tr>\n",
              "    <tr>\n",
              "      <th>14</th>\n",
              "      <td>457445</td>\n",
              "      <td>372157</td>\n",
              "      <td>132291</td>\n",
              "      <td>457445</td>\n",
              "      <td>1419338</td>\n",
              "      <td>14</td>\n",
              "    </tr>\n",
              "    <tr>\n",
              "      <th>15</th>\n",
              "      <td>1287047</td>\n",
              "      <td>1047181</td>\n",
              "      <td>372157</td>\n",
              "      <td>1287047</td>\n",
              "      <td>3993432</td>\n",
              "      <td>15</td>\n",
              "    </tr>\n",
              "    <tr>\n",
              "      <th>16</th>\n",
              "      <td>3621275</td>\n",
              "      <td>2946251</td>\n",
              "      <td>1047181</td>\n",
              "      <td>3621275</td>\n",
              "      <td>11235982</td>\n",
              "      <td>16</td>\n",
              "    </tr>\n",
              "  </tbody>\n",
              "</table>\n",
              "</div>"
            ],
            "text/plain": [
              "        Dog      Cat    Bunny      Fox     Total  Sequence length\n",
              "1         1        1        0        0         2                1\n",
              "2         2        1        1        2         6                2\n",
              "3         5        5        1        5        16                3\n",
              "4        15       11        5       15        46                4\n",
              "5        41       35       11       41       128                5\n",
              "6       117       93       35      117       362                6\n",
              "7       327      269       93      327      1016                7\n",
              "8       923      747      269      923      2862                8\n",
              "9      2593     2115      747     2593      8048                9\n",
              "10     7301     5933     2115     7301     22650               10\n",
              "11    20535    16717     5933    20535     63720               11\n",
              "12    57787    47003    16717    57787    179294               12\n",
              "13   162577   132291    47003   162577    504448               13\n",
              "14   457445   372157   132291   457445   1419338               14\n",
              "15  1287047  1047181   372157  1287047   3993432               15\n",
              "16  3621275  2946251  1047181  3621275  11235982               16"
            ]
          },
          "metadata": {
            "tags": []
          }
        }
      ]
    },
    {
      "cell_type": "markdown",
      "metadata": {
        "id": "CRErg73ZtUXC"
      },
      "source": [
        "Percentage of each species when approaching infinity can be calculated from the matrix eigenvectors:"
      ]
    },
    {
      "cell_type": "code",
      "metadata": {
        "id": "wowW1NhVr5AY",
        "colab": {
          "base_uri": "https://localhost:8080/"
        },
        "outputId": "40d7f21e-1915-4b72-a870-c1a3cbbc4c79"
      },
      "source": [
        "# matrix eigenvectors\n",
        "_,C = np.linalg.eig(A)\n",
        "\n",
        "# eigenvector corresponding to the largest eigenvalue\n",
        "v0 = (C[:,0])\n",
        "\n",
        "# percentages\n",
        "print(\"Dogs {:.2f}%, Cats {:.2f}%, Bunnies {:.2f}%, Foxes {:.2f}%\".format(*v0/sum(v0)*100))"
      ],
      "execution_count": 16,
      "outputs": [
        {
          "output_type": "stream",
          "text": [
            "Dogs 32.23%, Cats 26.22%, Bunnies 9.32%, Foxes 32.23%\n"
          ],
          "name": "stdout"
        }
      ]
    }
  ]
}